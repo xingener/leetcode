{
 "cells": [
  {
   "attachments": {},
   "cell_type": "markdown",
   "metadata": {},
   "source": [
    "菜鸟教程版本"
   ]
  },
  {
   "cell_type": "code",
   "execution_count": null,
   "metadata": {},
   "outputs": [],
   "source": [
    "def quickSort(arr, left=None, right=None):\n",
    "    left = 0 if not isinstance(left,(int, float)) else left\n",
    "    right = len(arr)-1 if not isinstance(right,(int, float)) else right\n",
    "    if left < right:\n",
    "        partitionIndex = partition(arr, left, right)\n",
    "        quickSort(arr, left, partitionIndex-1)\n",
    "        quickSort(arr, partitionIndex+1, right)\n",
    "    return arr\n",
    "\n",
    "def partition(arr, left, right):\n",
    "    pivot = left\n",
    "    index = pivot+1\n",
    "    i = index\n",
    "    while  i <= right:\n",
    "        if arr[i] < arr[pivot]:\n",
    "            swap(arr, i, index)\n",
    "            index+=1\n",
    "        i+=1\n",
    "    swap(arr,pivot,index-1)\n",
    "    return index-1\n",
    "\n",
    "def swap(arr, i, j):\n",
    "    arr[i], arr[j] = arr[j], arr[i]"
   ]
  },
  {
   "attachments": {},
   "cell_type": "markdown",
   "metadata": {},
   "source": [
    "我的实现  \n",
    "交换 array[high] 和 array[low] 有点频繁"
   ]
  },
  {
   "cell_type": "code",
   "execution_count": null,
   "metadata": {},
   "outputs": [
    {
     "name": "stdout",
     "output_type": "stream",
     "text": [
      "[1, 2, 3, 4, 5, 6, 7, 8]\n"
     ]
    }
   ],
   "source": [
    "def quick_sort(array, start, end):\n",
    "    if start >= end:\n",
    "        return\n",
    "    pivot = array[start]\n",
    "    low = start\n",
    "    high = end\n",
    "    while low < high:\n",
    "        while low < high and array[high] >= pivot:\n",
    "            high -= 1\n",
    "        array[low] = array[high]\n",
    "        while low < high and array[low] <= pivot:\n",
    "            low += 1\n",
    "        array[high] = array[low]\n",
    "    array[low] = pivot\n",
    "    quick_sort(array, start, low - 1)\n",
    "    quick_sort(array, low + 1, end)\n",
    "\n",
    "array = [3, 4, 1, 2, 5, 6, 7, 8]\n",
    "quick_sort(array, 0, len(array) - 1)\n",
    "print(array)"
   ]
  }
 ],
 "metadata": {
  "language_info": {
   "name": "python"
  },
  "orig_nbformat": 4
 },
 "nbformat": 4,
 "nbformat_minor": 2
}
