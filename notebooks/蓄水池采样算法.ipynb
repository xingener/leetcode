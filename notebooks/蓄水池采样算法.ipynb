{
 "cells": [
  {
   "attachments": {},
   "cell_type": "markdown",
   "metadata": {},
   "source": [
    "## 抽样问题\n",
    "给定一个int数据流  \n",
    "实现一个函数，在数据流中完成m个数的抽样  \n",
    "要求保证抽取的数概率相等，并证明  \n",
    "\n",
    "\n",
    "当前数 被选中的概率是 m / n  \n",
    "如果当前述被选中，那么原列表中的元素等概率被去掉一个就行了"
   ]
  },
  {
   "attachments": {},
   "cell_type": "markdown",
   "metadata": {},
   "source": [
    "这道题可以使用蓄水池抽样（Reservoir Sampling）算法来解决。蓄水池抽样是一种随机算法，可以从一个大小未知的数据流中随机抽取k个元素，并且保证每个元素被选中的概率相等。蓄水池抽样的主要思想是：先把前k个元素放到一个“蓄水池”中，然后对于第k+1个元素及之后的每个元素，以k/i的概率随机替换掉“蓄水池”中的一个元素，其中i为该元素的序号。\n",
    "\n",
    "下面是使用Python实现的蓄水池抽样算法的代码："
   ]
  },
  {
   "cell_type": "code",
   "execution_count": 1,
   "metadata": {},
   "outputs": [],
   "source": [
    "import random\n",
    "\n",
    "def reservoir_sampling(data_stream, m):\n",
    "    \"\"\"\n",
    "    从数据流中抽取m个元素\n",
    "    :param data_stream: 数据流，类型为List[int]\n",
    "    :param m: 抽样数量，类型为int\n",
    "    :return: 抽样结果，类型为List[int]\n",
    "    \"\"\"\n",
    "    res = []\n",
    "    for i in range(m):\n",
    "        res.append(data_stream[i])\n",
    "    for i in range(m, len(data_stream)):\n",
    "        j = random.randint(0, i)\n",
    "        if j < m:\n",
    "            res[j] = data_stream[i]\n",
    "    return res\n"
   ]
  },
  {
   "attachments": {},
   "cell_type": "markdown",
   "metadata": {},
   "source": [
    "该算法的时间复杂度为O(n)，空间复杂度为O(m)。可以证明，该算法可以保证每个元素被选中的概率为m/n，其中n为数据流的长度。证明过程如下：\n",
    "\n",
    "假设现在已经遍历了前i个元素，对于第i+1个元素，它被选中的概率为m/(i+1)。因此，对于前i个元素中的任意一个元素j，它被替换的概率为（m/i）×（1-m/(i+1)）=m/(i+1)，即第i+1个元素不替换j的概率为1-m/(i+1)，而j在前i个元素中的概率为1/i。因此，当第i+1个元素遍历完后，j仍然在“蓄水池”中的概率为\n",
    "\n",
    "(1 - m/(i+1)) * 1/i = m/i * (1 - m/(i+1)) * (i/(i+1)) = m/(i+1)\n",
    "\n",
    "因此，对于任意一个元素j，它最终被选中的概率为m/n，证毕。"
   ]
  },
  {
   "cell_type": "code",
   "execution_count": 2,
   "metadata": {},
   "outputs": [
    {
     "data": {
      "text/plain": [
       "[60, 54, 45, 81, 35, 23, 65, 24, 40, 97]"
      ]
     },
     "execution_count": 2,
     "metadata": {},
     "output_type": "execute_result"
    }
   ],
   "source": [
    "stream = [i for i in range(100)]\n",
    "reservoir_sampling(stream, 10)"
   ]
  }
 ],
 "metadata": {
  "kernelspec": {
   "display_name": "Python 3",
   "language": "python",
   "name": "python3"
  },
  "language_info": {
   "codemirror_mode": {
    "name": "ipython",
    "version": 3
   },
   "file_extension": ".py",
   "mimetype": "text/x-python",
   "name": "python",
   "nbconvert_exporter": "python",
   "pygments_lexer": "ipython3",
   "version": "3.9.16"
  },
  "orig_nbformat": 4
 },
 "nbformat": 4,
 "nbformat_minor": 2
}
