{
 "cells": [
  {
   "attachments": {},
   "cell_type": "markdown",
   "metadata": {},
   "source": [
    "斐波那契数列"
   ]
  },
  {
   "cell_type": "code",
   "execution_count": 52,
   "metadata": {},
   "outputs": [],
   "source": [
    "import numpy as np\n"
   ]
  },
  {
   "cell_type": "markdown",
   "metadata": {},
   "source": [
    "别人的实现"
   ]
  },
  {
   "cell_type": "code",
   "execution_count": 59,
   "metadata": {},
   "outputs": [],
   "source": [
    "class Solution:\n",
    "\n",
    "    def fib(self, n: int) -> int:\n",
    "        a, b = 0, 1\n",
    "        for _ in range(n):\n",
    "            a, b = b, a + b\n",
    "        return a % 1000000007"
   ]
  },
  {
   "cell_type": "markdown",
   "metadata": {},
   "source": [
    "我的实现："
   ]
  },
  {
   "cell_type": "code",
   "execution_count": null,
   "metadata": {},
   "outputs": [],
   "source": [
    "class Solution:\n",
    "    def fib(self, n: int) -> int:\n",
    "        if n == 0:\n",
    "            return 0\n",
    "        elif n == 1:\n",
    "            return 1\n",
    "\n",
    "        l_fib = [0] * (n+1)\n",
    "        l_fib[0] = 0\n",
    "        l_fib[1] = 1\n",
    "        for i in range(2, n+1):\n",
    "            l_fib[i] = l_fib[i-1] + l_fib[i-2]\n",
    "\n",
    "        return l_fib[n] % 1000000007"
   ]
  },
  {
   "cell_type": "code",
   "execution_count": 61,
   "metadata": {},
   "outputs": [
    {
     "name": "stdout",
     "output_type": "stream",
     "text": [
      "433494437\n"
     ]
    }
   ],
   "source": [
    "n = 43\n",
    "s = Solution()\n",
    "print(s.fib(n))"
   ]
  },
  {
   "cell_type": "code",
   "execution_count": 62,
   "metadata": {},
   "outputs": [
    {
     "name": "stdout",
     "output_type": "stream",
     "text": [
      "701408733\n"
     ]
    }
   ],
   "source": [
    "n = 44\n",
    "s = Solution()\n",
    "print(s.fib(n))"
   ]
  }
 ],
 "metadata": {
  "kernelspec": {
   "display_name": "Python 3",
   "language": "python",
   "name": "python3"
  },
  "language_info": {
   "codemirror_mode": {
    "name": "ipython",
    "version": 3
   },
   "file_extension": ".py",
   "mimetype": "text/x-python",
   "name": "python",
   "nbconvert_exporter": "python",
   "pygments_lexer": "ipython3",
   "version": "3.7.7-final"
  },
  "orig_nbformat": 2
 },
 "nbformat": 4,
 "nbformat_minor": 2
}
