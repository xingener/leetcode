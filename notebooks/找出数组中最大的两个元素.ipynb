{
 "cells": [
  {
   "attachments": {},
   "cell_type": "markdown",
   "metadata": {},
   "source": [
    "题目：出一道leetcode题：给定一个数组nums，找出num[i]+nums[j]-abs(i-j)的最大值，其中i不等于j  \n",
    "示例输入：\n",
    "```\n",
    "nums = [5, 2, 3, 4, 1]\n",
    "```\n",
    "\n",
    "示例输出：\n",
    "```\n",
    "6\n",
    "```\n",
    "\n",
    "解释：\n",
    "对于给定的数组 `nums = [5, 2, 3, 4, 1]`，可以计算以下表达式的值：\n",
    "- `nums[0] + nums[1] - |0 - 1| = 5 + 2 - 1 = 6`\n",
    "- `nums[2] + nums[3] - |1 - 3| = 3 + 4 - 1 = 6`\n",
    "- `nums[0] + nums[2] - |0 - 2| = 5 + 3 - 2 = 6`  \n",
    "...\n",
    "\n",
    "所以，最大值为 6。\n",
    "\n",
    "请你设计一个函数，给定一个整数数组 `nums`，返回 `nums[i] + nums[j] - |i - j|` 的最大值。"
   ]
  },
  {
   "cell_type": "code",
   "execution_count": 14,
   "metadata": {},
   "outputs": [
    {
     "name": "stdout",
     "output_type": "stream",
     "text": [
      "7\n"
     ]
    }
   ],
   "source": [
    "def max_sum(nums):\n",
    "    n = len(nums)\n",
    "    max_sum = float('-inf')  # 初始最大值设为负无穷大\n",
    "    \n",
    "    for i in range(n):\n",
    "        for j in range(n):\n",
    "            if i != j:\n",
    "                curr_sum = nums[i] + nums[j] - abs(i - j)\n",
    "                max_sum = max(max_sum, curr_sum)\n",
    "    \n",
    "    return max_sum\n",
    "\n",
    "# 测试\n",
    "nums = [5, 2, 4, 3, 1]\n",
    "result = max_sum(nums)\n",
    "print(result)\n"
   ]
  },
  {
   "attachments": {},
   "cell_type": "markdown",
   "metadata": {},
   "source": [
    "优化解法：`nums[i] + nums[j] - |i - j|` 转化为 `num[i] + i` 和 `num[j] - j`，其中 i < j，也就是说，遍历数组nums，找到k左边（含k）最大的`num[i] + i`值，并找到k右边（不含k）最大的`num[j] - j`值，两部分值相加即为分界点k的最大值，再找到最大加和的k值就行了"
   ]
  },
  {
   "cell_type": "code",
   "execution_count": 15,
   "metadata": {},
   "outputs": [
    {
     "name": "stdout",
     "output_type": "stream",
     "text": [
      "[5, 2, 4, 3, 1]\n",
      "7\n"
     ]
    }
   ],
   "source": [
    "def max_sum(nums):\n",
    "    print(nums)\n",
    "    n = len(nums)\n",
    "    if n < 2:\n",
    "        return None\n",
    "    max_sum = float('-inf')  # 初始最大值设为负无穷大\n",
    "    \n",
    "    max_part1 = [float('-inf')] * (n-1)\n",
    "    max_part1[0] = nums[0] + 0\n",
    "    for i in range(1, n-1):\n",
    "        curr_part1 = nums[i] + i\n",
    "        max_part1[i] = max(max_part1[i-1], curr_part1)\n",
    "\n",
    "    max_part2 = [float('-inf')] * (n)\n",
    "    max_part2[n-1] = nums[n-1] - (n-1)\n",
    "    for i in range(n-2, 1, -1):\n",
    "        curr_part2 = nums[i] - i\n",
    "        max_part2[i] = max(max_part2[i+1], curr_part2)\n",
    "    \n",
    "    for i in range(n-1):\n",
    "        j = i+1\n",
    "        curr_max_sum = max_part1[i] + max_part2[j]\n",
    "        max_sum = max(max_sum, curr_max_sum)\n",
    "    \n",
    "    return max_sum\n",
    "\n",
    "# 测试\n",
    "nums = [5, 2, 4, 3, 1]\n",
    "result = max_sum(nums)\n",
    "print(result)\n"
   ]
  }
 ],
 "metadata": {
  "kernelspec": {
   "display_name": "Python 3",
   "language": "python",
   "name": "python3"
  },
  "language_info": {
   "codemirror_mode": {
    "name": "ipython",
    "version": 3
   },
   "file_extension": ".py",
   "mimetype": "text/x-python",
   "name": "python",
   "nbconvert_exporter": "python",
   "pygments_lexer": "ipython3",
   "version": "3.9.16"
  },
  "orig_nbformat": 4
 },
 "nbformat": 4,
 "nbformat_minor": 2
}
