{
 "cells": [
  {
   "cell_type": "markdown",
   "metadata": {},
   "source": [
    "# 根据用户词典最大匹配切词\n",
    "给定一个用户词典，对输入的字符串进行最大匹配切词。  \n",
    "用户词典：[str] 天安门，北京，北京天安门，我，去，想去  \n",
    "字符串 '我想去北京天安门'  \n",
    "\n",
    "切词结果：['我', '想去', '北京天安门']\n"
   ]
  },
  {
   "cell_type": "code",
   "execution_count": null,
   "metadata": {},
   "outputs": [],
   "source": [
    "def split_via_dict(sentence, dict_user):\n",
    "    dict_item_max_length = max([len(item) for item in dict_user])\n",
    "    i = 0\n",
    "    res = []\n",
    "    # 前向匹配\n",
    "    while i < len(sentence):\n",
    "        j = min(i + dict_item_max_length + 1, len(sentence))\n",
    "        while j > i:\n",
    "            sub_sentence = sentence[i:j]\n",
    "            if sub_sentence in dict_user:\n",
    "                res.append(sub_sentence)\n",
    "                i = j\n",
    "                break\n",
    "            j -= 1\n",
    "\n",
    "    return res"
   ]
  },
  {
   "cell_type": "code",
   "execution_count": null,
   "metadata": {},
   "outputs": [
    {
     "data": {
      "text/plain": [
       "['我', '想去', '北京天安门']"
      ]
     },
     "metadata": {},
     "output_type": "display_data"
    }
   ],
   "source": [
    "sentence = '我想去北京天安门'\n",
    "dict =  (\n",
    "    \"天安门\",\n",
    "    \"北京\",\n",
    "    \"北京天安门\",\n",
    "    \"我\",\n",
    "    \"去\",\n",
    "    \"想去\")\n",
    "\n",
    "split_via_dict(sentence, dict)"
   ]
  },
  {
   "cell_type": "markdown",
   "metadata": {},
   "source": [
    "还有后向最大匹配。  \n",
    "双向匹配：分别进行前向和后向，再比较两个匹配结果，取分词数量较少的结果。"
   ]
  }
 ],
 "metadata": {
  "language_info": {
   "name": "python"
  },
  "orig_nbformat": 4
 },
 "nbformat": 4,
 "nbformat_minor": 2
}
