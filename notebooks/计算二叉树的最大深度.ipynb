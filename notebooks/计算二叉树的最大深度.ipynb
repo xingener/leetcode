{
 "cells": [
  {
   "attachments": {},
   "cell_type": "markdown",
   "metadata": {},
   "source": [
    "计算二叉树的最大深度"
   ]
  },
  {
   "cell_type": "code",
   "execution_count": null,
   "metadata": {},
   "outputs": [],
   "source": [
    "# 尾递归\n",
    "def depth_bi_tree(head_node):\n",
    "    def dfs(head_node,  depth):\n",
    "        if head_node is None:\n",
    "            return depth\n",
    "        depth_left, depth_right = depth, depth\n",
    "        if head_node.left:\n",
    "            depth_left = dfs(head_node.left, depth+1)\n",
    "        if head_node.right:\n",
    "            depth_right = dfs(head_node.right, depth+1)\n",
    "        return max(depth_left, depth_right)\n",
    "    \n",
    "    if head_node is None:\n",
    "        return 0    \n",
    "    return dfs(head_node, 1)"
   ]
  }
 ],
 "metadata": {
  "kernelspec": {
   "display_name": "Python 3",
   "language": "python",
   "name": "python3"
  },
  "language_info": {
   "codemirror_mode": {
    "name": "ipython",
    "version": 3
   },
   "file_extension": ".py",
   "mimetype": "text/x-python",
   "name": "python",
   "nbconvert_exporter": "python",
   "pygments_lexer": "ipython3",
   "version": "3.9.16"
  },
  "orig_nbformat": 4
 },
 "nbformat": 4,
 "nbformat_minor": 2
}
